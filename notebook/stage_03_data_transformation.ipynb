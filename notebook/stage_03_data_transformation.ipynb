{
 "cells": [
  {
   "cell_type": "code",
   "execution_count": 1,
   "metadata": {},
   "outputs": [],
   "source": [
    "import os"
   ]
  },
  {
   "cell_type": "code",
   "execution_count": 2,
   "metadata": {},
   "outputs": [
    {
     "data": {
      "text/plain": [
       "'f:\\\\Unversity\\\\Project\\\\TimeSeries\\\\Kalimati-tarkari\\\\notebook'"
      ]
     },
     "execution_count": 2,
     "metadata": {},
     "output_type": "execute_result"
    }
   ],
   "source": [
    "%pwd"
   ]
  },
  {
   "cell_type": "code",
   "execution_count": 3,
   "metadata": {},
   "outputs": [],
   "source": [
    "os.chdir('../')"
   ]
  },
  {
   "cell_type": "code",
   "execution_count": 4,
   "metadata": {},
   "outputs": [
    {
     "data": {
      "text/plain": [
       "'f:\\\\Unversity\\\\Project\\\\TimeSeries\\\\Kalimati-tarkari'"
      ]
     },
     "execution_count": 4,
     "metadata": {},
     "output_type": "execute_result"
    }
   ],
   "source": [
    "%pwd"
   ]
  },
  {
   "cell_type": "code",
   "execution_count": 6,
   "metadata": {},
   "outputs": [],
   "source": [
    "from dataclasses import dataclass\n",
    "from pathlib import Path\n",
    "\n",
    "\n",
    "@dataclass(frozen=True)\n",
    "class DataTransformationConfig:\n",
    "    root_dir: Path\n",
    "    data_path: Path\n",
    "    final_data: Path"
   ]
  },
  {
   "cell_type": "code",
   "execution_count": 7,
   "metadata": {},
   "outputs": [],
   "source": [
    "from kalimati_tarkari.constants import *\n",
    "from kalimati_tarkari.utils.main_utils import read_yaml, create_directories"
   ]
  },
  {
   "cell_type": "code",
   "execution_count": null,
   "metadata": {},
   "outputs": [],
   "source": []
  },
  {
   "cell_type": "code",
   "execution_count": 8,
   "metadata": {},
   "outputs": [],
   "source": [
    "class ConfigurationManager:\n",
    "    def __init__(\n",
    "        self,\n",
    "        config_filepath = CONFIG_FILE_PATH,\n",
    "        params_filepath = PARAMS_FILE_PATH,\n",
    "        schema_filepath = SCHEMA_FILE_PATH):\n",
    "\n",
    "        self.config = read_yaml(config_filepath)\n",
    "        self.params = read_yaml(params_filepath)\n",
    "        self.schema = read_yaml(schema_filepath)\n",
    "\n",
    "        create_directories([self.config.artifacts_root])\n",
    "\n",
    "    \n",
    "    def get_data_transformation_config(self) -> DataTransformationConfig:\n",
    "        config = self.config.data_transformation\n",
    "\n",
    "        create_directories([config.root_dir])\n",
    "\n",
    "        data_transformation_config = DataTransformationConfig(\n",
    "            root_dir=config.root_dir,\n",
    "            data_path=config.data_path,\n",
    "            final_data=config.final_data\n",
    "        )\n",
    "\n",
    "        return data_transformation_config"
   ]
  },
  {
   "cell_type": "code",
   "execution_count": 9,
   "metadata": {},
   "outputs": [],
   "source": [
    "import os\n",
    "from kalimati_tarkari.logger import logging\n",
    "import pandas as pd"
   ]
  },
  {
   "cell_type": "code",
   "execution_count": 11,
   "metadata": {},
   "outputs": [],
   "source": [
    "from datetime import datetime, timedelta"
   ]
  },
  {
   "cell_type": "code",
   "execution_count": 10,
   "metadata": {},
   "outputs": [],
   "source": [
    "df = pd.read_csv('artifacts\\data_ingestion\\data.csv')"
   ]
  },
  {
   "cell_type": "code",
   "execution_count": null,
   "metadata": {},
   "outputs": [],
   "source": []
  },
  {
   "cell_type": "code",
   "execution_count": 12,
   "metadata": {},
   "outputs": [],
   "source": [
    "class DataTransformation:\n",
    "    def __init__(self, config: DataTransformationConfig):\n",
    "        self.config = config\n",
    "        self.devanagari_to_english = {\n",
    "        '०': '0', '१': '1', '२': '2', '३': '3', '४': '4',\n",
    "        '५': '5', '६': '6', '७': '7', '८': '8', '९': '9'\n",
    "        }\n",
    "\n",
    "    def replace_devanagari_with_eng(self,text):\n",
    "        for dev, eng in self.devanagari_to_english.items():\n",
    "            text = text.replace(dev, eng)\n",
    "        return text\n",
    "\n",
    "    def cleaning_data(self,data_path):\n",
    "        data = pd.read_csv(self.config.data_path)\n",
    "         # Generate the range of dates for the year 2024\n",
    "        date_range = []\n",
    "        current = datetime(2013, 4, 15)\n",
    "        end_date = datetime.now()\n",
    "        while current <= end_date:\n",
    "            date_range.append(current.strftime('%m/%d/%Y'))\n",
    "            current += timedelta(days=1)\n",
    "\n",
    "        date_range = pd.Index(date_range)\n",
    "        complete_df = pd.DataFrame(date_range, columns=['Date'])\n",
    "        final_df = pd.merge(complete_df,data, on=['Date'], how='left')\n",
    "        final_df['Average'] = final_df['Average'].str.replace(\"रू\",\"\")\n",
    "        final_df['Average'] = final_df['Average'].astype('str').apply(self.replace_devanagari_with_eng).astype('float')\n",
    "        final_df['Date'] = pd.to_datetime(final_df['Date'])\n",
    "        final_df['Date'] = final_df['Date'].dt.date\n",
    "        final_df.set_index('Date', inplace=True)\n",
    "        return final_df\n",
    "        \n",
    "        \n",
    "\n",
    "\n",
    "    \n",
    "    def get_data_transform(self):\n",
    "        final_df = self.cleaning_data(self.config.data_path)\n",
    "        missing = final_df.isnull().sum()\n",
    "        logging.info(missing)\n",
    "        final_df['Average'].fillna(final_df[\"Average\"].ewm(span=60, adjust=False).mean(),inplace=True)\n",
    "        logging.info(\"filling Missing value done sucessfully !\")\n",
    "        return final_df.to_csv(\"artifacts/data_transformation/salesDaily.csv\",index=True)\n",
    "        \n",
    "        \n",
    "    \n",
    "    \n"
   ]
  },
  {
   "cell_type": "code",
   "execution_count": 14,
   "metadata": {},
   "outputs": [
    {
     "name": "stderr",
     "output_type": "stream",
     "text": [
      "C:\\Users\\bishw\\AppData\\Local\\Temp\\ipykernel_10476\\1226866887.py:42: FutureWarning: A value is trying to be set on a copy of a DataFrame or Series through chained assignment using an inplace method.\n",
      "The behavior will change in pandas 3.0. This inplace method will never work because the intermediate object on which we are setting values always behaves as a copy.\n",
      "\n",
      "For example, when doing 'df[col].method(value, inplace=True)', try using 'df.method({col: value}, inplace=True)' or df[col] = df[col].method(value) instead, to perform the operation inplace on the original object.\n",
      "\n",
      "\n",
      "  final_df['Average'].fillna(final_df[\"Average\"].ewm(span=60, adjust=False).mean(),inplace=True)\n"
     ]
    }
   ],
   "source": [
    "try:\n",
    "    config = ConfigurationManager()\n",
    "    data_transformation_config = config.get_data_transformation_config()\n",
    "    data_transformation = DataTransformation(config=data_transformation_config)\n",
    "    data_transformation.get_data_transform()\n",
    "except Exception as e:\n",
    "    raise e"
   ]
  },
  {
   "cell_type": "code",
   "execution_count": null,
   "metadata": {},
   "outputs": [],
   "source": []
  }
 ],
 "metadata": {
  "kernelspec": {
   "display_name": "Python 3",
   "language": "python",
   "name": "python3"
  },
  "language_info": {
   "codemirror_mode": {
    "name": "ipython",
    "version": 3
   },
   "file_extension": ".py",
   "mimetype": "text/x-python",
   "name": "python",
   "nbconvert_exporter": "python",
   "pygments_lexer": "ipython3",
   "version": "3.10.0"
  }
 },
 "nbformat": 4,
 "nbformat_minor": 2
}
