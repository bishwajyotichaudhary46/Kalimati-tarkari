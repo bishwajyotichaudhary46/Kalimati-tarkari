{
 "cells": [
  {
   "cell_type": "code",
   "execution_count": null,
   "metadata": {
    "vscode": {
     "languageId": "plaintext"
    }
   },
   "outputs": [],
   "source": [
    " def forecasts(self, X_test, n_steps=60, forecast_length=30):\n",
    "        # Get the last window from X_test to start forecasting\n",
    "        x_input = X_test[-1].reshape(1, -1)\n",
    "\n",
    "        # Convert the input into a list for ease of extending\n",
    "        temp_input = list(x_input)\n",
    "        temp_input = temp_input[0].tolist()\n",
    "\n",
    "        # List to store forecasted values\n",
    "        lst_output = []\n",
    "\n",
    "        # Access the prediction function from the loaded model\n",
    "        predict_function = self.model.signatures[\"serving_default\"]\n",
    "\n",
    "        i = 0\n",
    "        while i < forecast_length:\n",
    "            if len(temp_input) > n_steps:\n",
    "                # Adjust the input to only keep the last 'n_steps' elements\n",
    "                x_input = np.array(temp_input[-n_steps:])\n",
    "                print(x_input)\n",
    "                x_input = x_input.reshape(1, n_steps, 1)\n",
    "\n",
    "                # Predict the next value using the model\n",
    "                y_hat = predict_function(tf.constant(x_input))[\"output_0\"]\n",
    "                # Extend the temporary input list with the predicted value\n",
    "                temp_input.extend(y_hat[0].tolist())\n",
    "\n",
    "                # Store the predicted value in the output list\n",
    "                lst_output.append(y_hat[0].tolist()[0])\n",
    "\n",
    "            else:\n",
    "                # Reshape input properly for the LSTM model\n",
    "                x_input = x_input.reshape((1, n_steps, 1))\n",
    "                y_hat = predict_function(tf.constant(x_input))[\"output_0\"]\n",
    "                temp_input.extend(y_hat.numpy()[0].tolist())\n",
    "                lst_output.append(y_hat[0].tolist()[0])\n",
    "\n",
    "            i += 1\n",
    "        return lst_output\n"
   ]
  }
 ],
 "metadata": {
  "language_info": {
   "name": "python"
  }
 },
 "nbformat": 4,
 "nbformat_minor": 2
}
